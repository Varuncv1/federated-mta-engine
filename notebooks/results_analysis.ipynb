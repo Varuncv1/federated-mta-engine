{
 "cells": [
  {
   "cell_type": "code",
   "execution_count": 11,
   "id": "03fd63ac",
   "metadata": {},
   "outputs": [],
   "source": [
    "import os, sys\n",
    "\n",
    "# 1) Ensure project root is on PYTHONPATH\n",
    "project_root = os.path.abspath(os.path.join(os.getcwd(), os.pardir, os.pardir))\n",
    "sys.path.insert(0, project_root)"
   ]
  },
  {
   "cell_type": "markdown",
   "id": "edadd9be",
   "metadata": {},
   "source": [
    "# Results Analysis for Federated Multi-Touch Attribution Engine\n",
    "This notebook loads local and global models, runs evaluation metrics, and visualizes results. We also show how to plug in Flower for FL orchestration and Opacus for DP."
   ]
  },
  {
   "cell_type": "code",
   "execution_count": 2,
   "id": "0b00fc3c",
   "metadata": {},
   "outputs": [
    {
     "name": "stdout",
     "output_type": "stream",
     "text": [
      "Collecting torch\n",
      "  Using cached torch-2.7.0-cp312-none-macosx_11_0_arm64.whl.metadata (29 kB)\n",
      "Requirement already satisfied: filelock in /opt/anaconda3/lib/python3.12/site-packages (from torch) (3.13.1)\n",
      "Requirement already satisfied: typing-extensions>=4.10.0 in /opt/anaconda3/lib/python3.12/site-packages (from torch) (4.11.0)\n",
      "Requirement already satisfied: setuptools in /opt/anaconda3/lib/python3.12/site-packages (from torch) (75.1.0)\n",
      "Collecting sympy>=1.13.3 (from torch)\n",
      "  Using cached sympy-1.14.0-py3-none-any.whl.metadata (12 kB)\n",
      "Requirement already satisfied: networkx in /opt/anaconda3/lib/python3.12/site-packages (from torch) (3.3)\n",
      "Requirement already satisfied: jinja2 in /opt/anaconda3/lib/python3.12/site-packages (from torch) (3.1.4)\n",
      "Requirement already satisfied: fsspec in /opt/anaconda3/lib/python3.12/site-packages (from torch) (2024.6.1)\n",
      "Requirement already satisfied: mpmath<1.4,>=1.1.0 in /opt/anaconda3/lib/python3.12/site-packages (from sympy>=1.13.3->torch) (1.3.0)\n",
      "Requirement already satisfied: MarkupSafe>=2.0 in /opt/anaconda3/lib/python3.12/site-packages (from jinja2->torch) (2.1.3)\n",
      "Using cached torch-2.7.0-cp312-none-macosx_11_0_arm64.whl (68.6 MB)\n",
      "Using cached sympy-1.14.0-py3-none-any.whl (6.3 MB)\n",
      "Installing collected packages: sympy, torch\n",
      "  Attempting uninstall: sympy\n",
      "    Found existing installation: sympy 1.13.2\n",
      "    Uninstalling sympy-1.13.2:\n",
      "      Successfully uninstalled sympy-1.13.2\n",
      "Successfully installed sympy-1.14.0 torch-2.7.0\n"
     ]
    }
   ],
   "source": [
    "!pip install torch"
   ]
  },
  {
   "cell_type": "code",
   "execution_count": 5,
   "id": "7e17e6e4",
   "metadata": {},
   "outputs": [],
   "source": [
    "# Imports & Global Setup\n",
    "\n",
    "import os\n",
    "import pandas as pd\n",
    "import numpy as np\n",
    "import torch\n",
    "import joblib\n",
    "import matplotlib.pyplot as plt\n",
    "from sklearn.preprocessing import StandardScaler"
   ]
  },
  {
   "cell_type": "code",
   "execution_count": null,
   "id": "4059d67a",
   "metadata": {},
   "outputs": [],
   "source": [
    "from federated_mta.models.local_model import LocalModel, extract_features\n",
    "from federated_mta.evaluation.metrics import (\n",
    "    compute_classification_metrics,\n",
    "    aggregate_attribution_metrics,\n",
    "    summary_report\n",
    ")\n",
    "\n",
    "plt.rcParams['figure.figsize'] = (8, 4)"
   ]
  },
  {
   "cell_type": "markdown",
   "id": "4025e3e6",
   "metadata": {},
   "source": [
    "## 1. Local Model Evaluation\n",
    "Load each partner’s model, compute AUC, log loss, accuracy."
   ]
  },
  {
   "cell_type": "code",
   "execution_count": 14,
   "id": "f9118e67",
   "metadata": {},
   "outputs": [
    {
     "name": "stderr",
     "output_type": "stream",
     "text": [
      "/opt/anaconda3/lib/python3.12/site-packages/sklearn/metrics/_classification.py:1531: UndefinedMetricWarning: Precision is ill-defined and being set to 0.0 due to no predicted samples. Use `zero_division` parameter to control this behavior.\n",
      "  _warn_prf(average, modifier, f\"{metric.capitalize()} is\", len(result))\n",
      "/opt/anaconda3/lib/python3.12/site-packages/sklearn/metrics/_classification.py:1531: UndefinedMetricWarning: Precision is ill-defined and being set to 0.0 due to no predicted samples. Use `zero_division` parameter to control this behavior.\n",
      "  _warn_prf(average, modifier, f\"{metric.capitalize()} is\", len(result))\n",
      "/opt/anaconda3/lib/python3.12/site-packages/sklearn/metrics/_classification.py:1531: UndefinedMetricWarning: Precision is ill-defined and being set to 0.0 due to no predicted samples. Use `zero_division` parameter to control this behavior.\n",
      "  _warn_prf(average, modifier, f\"{metric.capitalize()} is\", len(result))\n"
     ]
    },
    {
     "data": {
      "text/html": [
       "<div>\n",
       "<style scoped>\n",
       "    .dataframe tbody tr th:only-of-type {\n",
       "        vertical-align: middle;\n",
       "    }\n",
       "\n",
       "    .dataframe tbody tr th {\n",
       "        vertical-align: top;\n",
       "    }\n",
       "\n",
       "    .dataframe thead th {\n",
       "        text-align: right;\n",
       "    }\n",
       "</style>\n",
       "<table border=\"1\" class=\"dataframe\">\n",
       "  <thead>\n",
       "    <tr style=\"text-align: right;\">\n",
       "      <th></th>\n",
       "      <th>partner</th>\n",
       "      <th>auc</th>\n",
       "      <th>log_loss</th>\n",
       "      <th>accuracy</th>\n",
       "      <th>precision</th>\n",
       "      <th>recall</th>\n",
       "    </tr>\n",
       "  </thead>\n",
       "  <tbody>\n",
       "    <tr>\n",
       "      <th>0</th>\n",
       "      <td>partner_a</td>\n",
       "      <td>0.516741</td>\n",
       "      <td>0.530362</td>\n",
       "      <td>0.810</td>\n",
       "      <td>0.0</td>\n",
       "      <td>0.0</td>\n",
       "    </tr>\n",
       "    <tr>\n",
       "      <th>1</th>\n",
       "      <td>partner_b</td>\n",
       "      <td>0.520300</td>\n",
       "      <td>0.505062</td>\n",
       "      <td>0.802</td>\n",
       "      <td>0.0</td>\n",
       "      <td>0.0</td>\n",
       "    </tr>\n",
       "    <tr>\n",
       "      <th>2</th>\n",
       "      <td>partner_c</td>\n",
       "      <td>0.484277</td>\n",
       "      <td>0.531467</td>\n",
       "      <td>0.790</td>\n",
       "      <td>0.0</td>\n",
       "      <td>0.0</td>\n",
       "    </tr>\n",
       "  </tbody>\n",
       "</table>\n",
       "</div>"
      ],
      "text/plain": [
       "     partner       auc  log_loss  accuracy  precision  recall\n",
       "0  partner_a  0.516741  0.530362     0.810        0.0     0.0\n",
       "1  partner_b  0.520300  0.505062     0.802        0.0     0.0\n",
       "2  partner_c  0.484277  0.531467     0.790        0.0     0.0"
      ]
     },
     "metadata": {},
     "output_type": "display_data"
    }
   ],
   "source": [
    "partners = ['partner_a', 'partner_b', 'partner_c']\n",
    "local_metrics = {}\n",
    "\n",
    "for p in partners:\n",
    "    # Build absolute paths\n",
    "    scaler_path = os.path.join(project_root, 'federated_mta/models', 'local', f'{p}_scaler.pkl')\n",
    "    model_path  = os.path.join(project_root, 'federated_mta/models', 'local', f'{p}_model.pth')\n",
    "    data_path   = os.path.join(project_root, 'federated_mta/data', f'{p}.csv')\n",
    "    \n",
    "    # Load scaler & model\n",
    "    scaler = joblib.load(scaler_path)\n",
    "    model  = LocalModel(input_dim=3)\n",
    "    model.load_state_dict(torch.load(model_path, map_location='cpu'))\n",
    "    model.eval()\n",
    "\n",
    "    # Prepare data\n",
    "    df = pd.read_csv(data_path)\n",
    "    features, labels = extract_features(df)\n",
    "    X = scaler.transform(features.values)\n",
    "    X_tensor = torch.tensor(X, dtype=torch.float32)\n",
    "    y_true = labels.values\n",
    "\n",
    "    # Predict & compute metrics\n",
    "    with torch.no_grad():\n",
    "        outputs = model(X_tensor)\n",
    "        probs = torch.softmax(outputs, 1)[:, 1].numpy()\n",
    "    local_metrics[p] = compute_classification_metrics(y_true, probs)\n",
    "\n",
    "# 4) Display results\n",
    "import pandas as pd\n",
    "local_df = pd.DataFrame([\n",
    "    {'partner': p, **m} for p, m in local_metrics.items()\n",
    "])\n",
    "display(local_df)"
   ]
  },
  {
   "cell_type": "markdown",
   "id": "92b772dd",
   "metadata": {},
   "source": [
    "## 2. Global Model Evaluation\n",
    "Evaluate the federated-aggregated model on combined data."
   ]
  },
  {
   "cell_type": "code",
   "execution_count": 17,
   "id": "0002ff08",
   "metadata": {},
   "outputs": [
    {
     "name": "stderr",
     "output_type": "stream",
     "text": [
      "/opt/anaconda3/lib/python3.12/site-packages/sklearn/metrics/_classification.py:1531: UndefinedMetricWarning: Precision is ill-defined and being set to 0.0 due to no predicted samples. Use `zero_division` parameter to control this behavior.\n",
      "  _warn_prf(average, modifier, f\"{metric.capitalize()} is\", len(result))\n"
     ]
    },
    {
     "data": {
      "text/html": [
       "<div>\n",
       "<style scoped>\n",
       "    .dataframe tbody tr th:only-of-type {\n",
       "        vertical-align: middle;\n",
       "    }\n",
       "\n",
       "    .dataframe tbody tr th {\n",
       "        vertical-align: top;\n",
       "    }\n",
       "\n",
       "    .dataframe thead th {\n",
       "        text-align: right;\n",
       "    }\n",
       "</style>\n",
       "<table border=\"1\" class=\"dataframe\">\n",
       "  <thead>\n",
       "    <tr style=\"text-align: right;\">\n",
       "      <th></th>\n",
       "      <th>model</th>\n",
       "      <th>auc</th>\n",
       "      <th>log_loss</th>\n",
       "      <th>accuracy</th>\n",
       "      <th>precision</th>\n",
       "      <th>recall</th>\n",
       "    </tr>\n",
       "  </thead>\n",
       "  <tbody>\n",
       "    <tr>\n",
       "      <th>0</th>\n",
       "      <td>global</td>\n",
       "      <td>0.487089</td>\n",
       "      <td>0.802302</td>\n",
       "      <td>0.496</td>\n",
       "      <td>0.0</td>\n",
       "      <td>0.0</td>\n",
       "    </tr>\n",
       "  </tbody>\n",
       "</table>\n",
       "</div>"
      ],
      "text/plain": [
       "    model       auc  log_loss  accuracy  precision  recall\n",
       "0  global  0.487089  0.802302     0.496        0.0     0.0"
      ]
     },
     "metadata": {},
     "output_type": "display_data"
    }
   ],
   "source": [
    "partners = ['partner_a', 'partner_b', 'partner_c']\n",
    "dfs = []\n",
    "for p in partners:\n",
    "    data_path = os.path.join(project_root, 'federated_mta/data', f'{p}.csv')\n",
    "    dfs.append(pd.read_csv(data_path))\n",
    "df_all = pd.concat(dfs, ignore_index=True)\n",
    "\n",
    "# 4) Feature extraction\n",
    "features_all, labels_all = extract_features(df_all)\n",
    "\n",
    "# 5) Scale features\n",
    "global_scaler = StandardScaler()\n",
    "X_all = global_scaler.fit_transform(features_all.values)\n",
    "X_tensor = torch.tensor(X_all, dtype=torch.float32)\n",
    "\n",
    "# 6) Load global model\n",
    "model_path = os.path.join(project_root, 'federated_mta/models', 'global', 'global_model.pth')\n",
    "global_model = LocalModel(input_dim=3)\n",
    "global_model.load_state_dict(torch.load(model_path, map_location='cpu'))\n",
    "global_model.eval()\n",
    "\n",
    "# 7) Predict & compute metrics\n",
    "with torch.no_grad():\n",
    "    outputs = global_model(X_tensor)\n",
    "    probs = torch.softmax(outputs, 1)[:, 1].numpy()\n",
    "global_metrics = compute_classification_metrics(labels_all.values, probs)\n",
    "\n",
    "# 8) Display\n",
    "import pandas as pd\n",
    "display(pd.DataFrame([{'model': 'global', **global_metrics}]))"
   ]
  },
  {
   "cell_type": "markdown",
   "id": "31f75f7a",
   "metadata": {},
   "source": [
    "## 3. AUC Comparison\n",
    "Bar chart comparing local vs. global models."
   ]
  },
  {
   "cell_type": "code",
   "execution_count": 19,
   "id": "1a1f8517",
   "metadata": {},
   "outputs": [
    {
     "data": {
      "image/png": "[encoded data removed]",
      "text/plain": [
       "<Figure size 800x400 with 1 Axes>"
      ]
     },
     "metadata": {},
     "output_type": "display_data"
    }
   ],
   "source": [
    "# 1) Copy your local results\n",
    "compare_df = local_df.copy()\n",
    "compare_df['model'] = compare_df['partner']\n",
    "\n",
    "# 2) Create a one‐row DataFrame for the global model\n",
    "new_row = pd.DataFrame([{'model': 'global', **global_metrics}])\n",
    "\n",
    "# 3) Concatenate\n",
    "compare_df = pd.concat([compare_df, new_row], ignore_index=True)\n",
    "\n",
    "# 4) Plot\n",
    "compare_df.plot(x='model', y='auc', kind='bar')\n",
    "plt.title('AUC: Local vs Global')\n",
    "plt.ylabel('AUC')\n",
    "plt.show()\n"
   ]
  },
  {
   "cell_type": "markdown",
   "id": "9173124e",
   "metadata": {},
   "source": [
    "## 4. Attribution Heuristics Quality\n",
    "Assess credit vs. actual conversion."
   ]
  },
  {
   "cell_type": "code",
   "execution_count": 20,
   "id": "9543370b",
   "metadata": {},
   "outputs": [
    {
     "ename": "FileNotFoundError",
     "evalue": "[Errno 2] No such file or directory: 'federated_mta/data/first_touch_credit.csv'",
     "output_type": "error",
     "traceback": [
      "\u001b[0;31m---------------------------------------------------------------------------\u001b[0m",
      "\u001b[0;31mFileNotFoundError\u001b[0m                         Traceback (most recent call last)",
      "Cell \u001b[0;32mIn[20], line 2\u001b[0m\n\u001b[1;32m      1\u001b[0m \u001b[38;5;66;03m# load heuristic credits\u001b[39;00m\n\u001b[0;32m----> 2\u001b[0m ft \u001b[38;5;241m=\u001b[39m pd\u001b[38;5;241m.\u001b[39mread_csv(\u001b[38;5;124m'\u001b[39m\u001b[38;5;124mfederated_mta/data/first_touch_credit.csv\u001b[39m\u001b[38;5;124m'\u001b[39m)\n\u001b[1;32m      3\u001b[0m lin \u001b[38;5;241m=\u001b[39m pd\u001b[38;5;241m.\u001b[39mread_csv(\u001b[38;5;124m'\u001b[39m\u001b[38;5;124mfederated_mta/data/linear_credit.csv\u001b[39m\u001b[38;5;124m'\u001b[39m)\n\u001b[1;32m      4\u001b[0m df_conv \u001b[38;5;241m=\u001b[39m df_all[df_all[\u001b[38;5;124m'\u001b[39m\u001b[38;5;124mconverted\u001b[39m\u001b[38;5;124m'\u001b[39m]\u001b[38;5;241m==\u001b[39m\u001b[38;5;241m1\u001b[39m][[\u001b[38;5;124m'\u001b[39m\u001b[38;5;124muser_id\u001b[39m\u001b[38;5;124m'\u001b[39m,\u001b[38;5;124m'\u001b[39m\u001b[38;5;124mconverted\u001b[39m\u001b[38;5;124m'\u001b[39m]]\n",
      "File \u001b[0;32m/opt/anaconda3/lib/python3.12/site-packages/pandas/io/parsers/readers.py:1026\u001b[0m, in \u001b[0;36mread_csv\u001b[0;34m(filepath_or_buffer, sep, delimiter, header, names, index_col, usecols, dtype, engine, converters, true_values, false_values, skipinitialspace, skiprows, skipfooter, nrows, na_values, keep_default_na, na_filter, verbose, skip_blank_lines, parse_dates, infer_datetime_format, keep_date_col, date_parser, date_format, dayfirst, cache_dates, iterator, chunksize, compression, thousands, decimal, lineterminator, quotechar, quoting, doublequote, escapechar, comment, encoding, encoding_errors, dialect, on_bad_lines, delim_whitespace, low_memory, memory_map, float_precision, storage_options, dtype_backend)\u001b[0m\n\u001b[1;32m   1013\u001b[0m kwds_defaults \u001b[38;5;241m=\u001b[39m _refine_defaults_read(\n\u001b[1;32m   1014\u001b[0m     dialect,\n\u001b[1;32m   1015\u001b[0m     delimiter,\n\u001b[0;32m   (...)\u001b[0m\n\u001b[1;32m   1022\u001b[0m     dtype_backend\u001b[38;5;241m=\u001b[39mdtype_backend,\n\u001b[1;32m   1023\u001b[0m )\n\u001b[1;32m   1024\u001b[0m kwds\u001b[38;5;241m.\u001b[39mupdate(kwds_defaults)\n\u001b[0;32m-> 1026\u001b[0m \u001b[38;5;28;01mreturn\u001b[39;00m _read(filepath_or_buffer, kwds)\n",
      "File \u001b[0;32m/opt/anaconda3/lib/python3.12/site-packages/pandas/io/parsers/readers.py:620\u001b[0m, in \u001b[0;36m_read\u001b[0;34m(filepath_or_buffer, kwds)\u001b[0m\n\u001b[1;32m    617\u001b[0m _validate_names(kwds\u001b[38;5;241m.\u001b[39mget(\u001b[38;5;124m\"\u001b[39m\u001b[38;5;124mnames\u001b[39m\u001b[38;5;124m\"\u001b[39m, \u001b[38;5;28;01mNone\u001b[39;00m))\n\u001b[1;32m    619\u001b[0m \u001b[38;5;66;03m# Create the parser.\u001b[39;00m\n\u001b[0;32m--> 620\u001b[0m parser \u001b[38;5;241m=\u001b[39m TextFileReader(filepath_or_buffer, \u001b[38;5;241m*\u001b[39m\u001b[38;5;241m*\u001b[39mkwds)\n\u001b[1;32m    622\u001b[0m \u001b[38;5;28;01mif\u001b[39;00m chunksize \u001b[38;5;129;01mor\u001b[39;00m iterator:\n\u001b[1;32m    623\u001b[0m     \u001b[38;5;28;01mreturn\u001b[39;00m parser\n",
      "File \u001b[0;32m/opt/anaconda3/lib/python3.12/site-packages/pandas/io/parsers/readers.py:1620\u001b[0m, in \u001b[0;36mTextFileReader.__init__\u001b[0;34m(self, f, engine, **kwds)\u001b[0m\n\u001b[1;32m   1617\u001b[0m     \u001b[38;5;28mself\u001b[39m\u001b[38;5;241m.\u001b[39moptions[\u001b[38;5;124m\"\u001b[39m\u001b[38;5;124mhas_index_names\u001b[39m\u001b[38;5;124m\"\u001b[39m] \u001b[38;5;241m=\u001b[39m kwds[\u001b[38;5;124m\"\u001b[39m\u001b[38;5;124mhas_index_names\u001b[39m\u001b[38;5;124m\"\u001b[39m]\n\u001b[1;32m   1619\u001b[0m \u001b[38;5;28mself\u001b[39m\u001b[38;5;241m.\u001b[39mhandles: IOHandles \u001b[38;5;241m|\u001b[39m \u001b[38;5;28;01mNone\u001b[39;00m \u001b[38;5;241m=\u001b[39m \u001b[38;5;28;01mNone\u001b[39;00m\n\u001b[0;32m-> 1620\u001b[0m \u001b[38;5;28mself\u001b[39m\u001b[38;5;241m.\u001b[39m_engine \u001b[38;5;241m=\u001b[39m \u001b[38;5;28mself\u001b[39m\u001b[38;5;241m.\u001b[39m_make_engine(f, \u001b[38;5;28mself\u001b[39m\u001b[38;5;241m.\u001b[39mengine)\n",
      "File \u001b[0;32m/opt/anaconda3/lib/python3.12/site-packages/pandas/io/parsers/readers.py:1880\u001b[0m, in \u001b[0;36mTextFileReader._make_engine\u001b[0;34m(self, f, engine)\u001b[0m\n\u001b[1;32m   1878\u001b[0m     \u001b[38;5;28;01mif\u001b[39;00m \u001b[38;5;124m\"\u001b[39m\u001b[38;5;124mb\u001b[39m\u001b[38;5;124m\"\u001b[39m \u001b[38;5;129;01mnot\u001b[39;00m \u001b[38;5;129;01min\u001b[39;00m mode:\n\u001b[1;32m   1879\u001b[0m         mode \u001b[38;5;241m+\u001b[39m\u001b[38;5;241m=\u001b[39m \u001b[38;5;124m\"\u001b[39m\u001b[38;5;124mb\u001b[39m\u001b[38;5;124m\"\u001b[39m\n\u001b[0;32m-> 1880\u001b[0m \u001b[38;5;28mself\u001b[39m\u001b[38;5;241m.\u001b[39mhandles \u001b[38;5;241m=\u001b[39m get_handle(\n\u001b[1;32m   1881\u001b[0m     f,\n\u001b[1;32m   1882\u001b[0m     mode,\n\u001b[1;32m   1883\u001b[0m     encoding\u001b[38;5;241m=\u001b[39m\u001b[38;5;28mself\u001b[39m\u001b[38;5;241m.\u001b[39moptions\u001b[38;5;241m.\u001b[39mget(\u001b[38;5;124m\"\u001b[39m\u001b[38;5;124mencoding\u001b[39m\u001b[38;5;124m\"\u001b[39m, \u001b[38;5;28;01mNone\u001b[39;00m),\n\u001b[1;32m   1884\u001b[0m     compression\u001b[38;5;241m=\u001b[39m\u001b[38;5;28mself\u001b[39m\u001b[38;5;241m.\u001b[39moptions\u001b[38;5;241m.\u001b[39mget(\u001b[38;5;124m\"\u001b[39m\u001b[38;5;124mcompression\u001b[39m\u001b[38;5;124m\"\u001b[39m, \u001b[38;5;28;01mNone\u001b[39;00m),\n\u001b[1;32m   1885\u001b[0m     memory_map\u001b[38;5;241m=\u001b[39m\u001b[38;5;28mself\u001b[39m\u001b[38;5;241m.\u001b[39moptions\u001b[38;5;241m.\u001b[39mget(\u001b[38;5;124m\"\u001b[39m\u001b[38;5;124mmemory_map\u001b[39m\u001b[38;5;124m\"\u001b[39m, \u001b[38;5;28;01mFalse\u001b[39;00m),\n\u001b[1;32m   1886\u001b[0m     is_text\u001b[38;5;241m=\u001b[39mis_text,\n\u001b[1;32m   1887\u001b[0m     errors\u001b[38;5;241m=\u001b[39m\u001b[38;5;28mself\u001b[39m\u001b[38;5;241m.\u001b[39moptions\u001b[38;5;241m.\u001b[39mget(\u001b[38;5;124m\"\u001b[39m\u001b[38;5;124mencoding_errors\u001b[39m\u001b[38;5;124m\"\u001b[39m, \u001b[38;5;124m\"\u001b[39m\u001b[38;5;124mstrict\u001b[39m\u001b[38;5;124m\"\u001b[39m),\n\u001b[1;32m   1888\u001b[0m     storage_options\u001b[38;5;241m=\u001b[39m\u001b[38;5;28mself\u001b[39m\u001b[38;5;241m.\u001b[39moptions\u001b[38;5;241m.\u001b[39mget(\u001b[38;5;124m\"\u001b[39m\u001b[38;5;124mstorage_options\u001b[39m\u001b[38;5;124m\"\u001b[39m, \u001b[38;5;28;01mNone\u001b[39;00m),\n\u001b[1;32m   1889\u001b[0m )\n\u001b[1;32m   1890\u001b[0m \u001b[38;5;28;01massert\u001b[39;00m \u001b[38;5;28mself\u001b[39m\u001b[38;5;241m.\u001b[39mhandles \u001b[38;5;129;01mis\u001b[39;00m \u001b[38;5;129;01mnot\u001b[39;00m \u001b[38;5;28;01mNone\u001b[39;00m\n\u001b[1;32m   1891\u001b[0m f \u001b[38;5;241m=\u001b[39m \u001b[38;5;28mself\u001b[39m\u001b[38;5;241m.\u001b[39mhandles\u001b[38;5;241m.\u001b[39mhandle\n",
      "File \u001b[0;32m/opt/anaconda3/lib/python3.12/site-packages/pandas/io/common.py:873\u001b[0m, in \u001b[0;36mget_handle\u001b[0;34m(path_or_buf, mode, encoding, compression, memory_map, is_text, errors, storage_options)\u001b[0m\n\u001b[1;32m    868\u001b[0m \u001b[38;5;28;01melif\u001b[39;00m \u001b[38;5;28misinstance\u001b[39m(handle, \u001b[38;5;28mstr\u001b[39m):\n\u001b[1;32m    869\u001b[0m     \u001b[38;5;66;03m# Check whether the filename is to be opened in binary mode.\u001b[39;00m\n\u001b[1;32m    870\u001b[0m     \u001b[38;5;66;03m# Binary mode does not support 'encoding' and 'newline'.\u001b[39;00m\n\u001b[1;32m    871\u001b[0m     \u001b[38;5;28;01mif\u001b[39;00m ioargs\u001b[38;5;241m.\u001b[39mencoding \u001b[38;5;129;01mand\u001b[39;00m \u001b[38;5;124m\"\u001b[39m\u001b[38;5;124mb\u001b[39m\u001b[38;5;124m\"\u001b[39m \u001b[38;5;129;01mnot\u001b[39;00m \u001b[38;5;129;01min\u001b[39;00m ioargs\u001b[38;5;241m.\u001b[39mmode:\n\u001b[1;32m    872\u001b[0m         \u001b[38;5;66;03m# Encoding\u001b[39;00m\n\u001b[0;32m--> 873\u001b[0m         handle \u001b[38;5;241m=\u001b[39m \u001b[38;5;28mopen\u001b[39m(\n\u001b[1;32m    874\u001b[0m             handle,\n\u001b[1;32m    875\u001b[0m             ioargs\u001b[38;5;241m.\u001b[39mmode,\n\u001b[1;32m    876\u001b[0m             encoding\u001b[38;5;241m=\u001b[39mioargs\u001b[38;5;241m.\u001b[39mencoding,\n\u001b[1;32m    877\u001b[0m             errors\u001b[38;5;241m=\u001b[39merrors,\n\u001b[1;32m    878\u001b[0m             newline\u001b[38;5;241m=\u001b[39m\u001b[38;5;124m\"\u001b[39m\u001b[38;5;124m\"\u001b[39m,\n\u001b[1;32m    879\u001b[0m         )\n\u001b[1;32m    880\u001b[0m     \u001b[38;5;28;01melse\u001b[39;00m:\n\u001b[1;32m    881\u001b[0m         \u001b[38;5;66;03m# Binary mode\u001b[39;00m\n\u001b[1;32m    882\u001b[0m         handle \u001b[38;5;241m=\u001b[39m \u001b[38;5;28mopen\u001b[39m(handle, ioargs\u001b[38;5;241m.\u001b[39mmode)\n",
      "\u001b[0;31mFileNotFoundError\u001b[0m: [Errno 2] No such file or directory: 'federated_mta/data/first_touch_credit.csv'"
     ]
    }
   ],
   "source": [
    "# load heuristic credits\n",
    "ft = pd.read_csv('federated_mta/data/first_touch_credit.csv')\n",
    "lin = pd.read_csv('federated_mta/data/linear_credit.csv')\n",
    "df_conv = df_all[df_all['converted']==1][['user_id','converted']]\n",
    "\n",
    "ft_metrics = aggregate_attribution_metrics(ft, df_conv.set_index('user_id')['converted'])\n",
    "lin_metrics = aggregate_attribution_metrics(lin, df_conv.set_index('user_id')['converted'])\n",
    "\n",
    "heur_df = pd.DataFrame([\n",
    "    {'heuristic':'first_touch', **ft_metrics},\n",
    "    {'heuristic':'linear',      **lin_metrics}\n",
    "])\n",
    "display(heur_df)\n",
    "\n",
    "heur_df.plot(x='heuristic', y='credit_conversion_correlation', kind='bar')\n",
    "plt.title('Heuristic Credit vs Conversion Correlation'); plt.show()"
   ]
  },
  {
   "cell_type": "markdown",
   "id": "832d940d",
   "metadata": {},
   "source": [
    "## 5. Federated Learning with Flower (Sketch)\n",
    "Below is how you’d plug in Flower for a true FL loop.  \n",
    "*(Requires `flower` installed and separate `fl/server.py` & `fl/client.py`.)"
   ]
  },
  {
   "cell_type": "code",
   "execution_count": null,
   "id": "6515b56e",
   "metadata": {},
   "outputs": [],
   "source": [
    "# SERVER SIDE (fl/server.py)\n",
    "import flwr as fl\n",
    "\n",
    "def get_parameters(server_round: int):\n",
    "    # load global model parameters\n",
    "    import torch\n",
    "    from models.local_model import LocalModel\n",
    "    model = LocalModel(input_dim=3)\n",
    "    model.load_state_dict(torch.load('models/global/global_model.pth'))\n",
    "    return [val.cpu().numpy() for _, val in model.state_dict().items()]\n",
    "\n",
    "class FederatedStrategy(fl.server.strategy.FedAvg):\n",
    "    def __init__(self):\n",
    "        super().__init__(fraction_fit=1.0, fraction_eval=1.0)\n",
    "    def evaluate(self, parameters, config):\n",
    "        # (Reuse evaluation code)\n",
    "        return 0.0, {}\n",
    "\n",
    "if __name__ == \"__main__\":\n",
    "    fl.server.start_server(server_address=\"0.0.0.0:8080\", strategy=FederatedStrategy(), config={\"num_rounds\":3})"
   ]
  },
  {
   "cell_type": "code",
   "execution_count": null,
   "id": "37d89f8c",
   "metadata": {},
   "outputs": [],
   "source": [
    "# CLIENT SIDE (fl/client.py)\n",
    "import flwr as fl\n",
    "import torch\n",
    "from models.local_model import LocalModel, extract_features\n",
    "from torch.utils.data import DataLoader, TensorDataset\n",
    "import pandas as pd, joblib\n",
    "\n",
    "class MTAClient(fl.client.NumPyClient):\n",
    "    def __init__(self, partner: str):\n",
    "        self.partner = partner\n",
    "        self.model = LocalModel(input_dim=3)\n",
    "        self.scaler = joblib.load(f\"models/local/{partner}_scaler.pkl\")\n",
    "        df = pd.read_csv(f\"data/{partner}.csv\")\n",
    "        X, y = extract_features(df)\n",
    "        X = self.scaler.transform(X.values)\n",
    "        self.train_loader = DataLoader(TensorDataset(torch.tensor(X, dtype=torch.float32),\n",
    "                                                     torch.tensor(y.values, dtype=torch.long)),\n",
    "                                       batch_size=32, shuffle=True)\n",
    "\n",
    "    def get_parameters(self):\n",
    "        return [val.cpu().numpy() for _, val in self.model.state_dict().items()]\n",
    "\n",
    "    def fit(self, parameters, config):\n",
    "        # set parameters\n",
    "        params_dict = zip(self.model.state_dict().keys(), parameters)\n",
    "        state_dict = {k: torch.tensor(v) for k, v in params_dict}\n",
    "        self.model.load_state_dict(state_dict)\n",
    "        # train locally\n",
    "        self.model.train()\n",
    "        optimizer = torch.optim.SGD(self.model.parameters(), lr=0.01)\n",
    "        for X_batch, y_batch in self.train_loader:\n",
    "            optimizer.zero_grad()\n",
    "            outputs = self.model(X_batch)\n",
    "            loss = torch.nn.CrossEntropyLoss()(outputs, y_batch)\n",
    "            loss.backward()\n",
    "            optimizer.step()\n",
    "        return self.get_parameters(), len(self.train_loader.dataset), {}\n",
    "\n",
    "    def evaluate(self, parameters, config):\n",
    "        # similar to fit but on test set\n",
    "        return 0.0, len(self.train_loader.dataset), {}\n",
    "\n",
    "if __name__ == \"__main__\":\n",
    "    import sys\n",
    "    partner = sys.argv[1]\n",
    "    fl.client.start_numpy_client(server_address=\"0.0.0.0:8080\", client=MTAClient(partner))"
   ]
  },
  {
   "cell_type": "markdown",
   "id": "36ac1101",
   "metadata": {},
   "source": [
    "## 6. Differential Privacy with Opacus\n",
    "Wrap your local training optimizer to add DP noise."
   ]
  },
  {
   "cell_type": "code",
   "execution_count": null,
   "id": "ab6df29a",
   "metadata": {},
   "outputs": [],
   "source": [
    "from opacus import PrivacyEngine\n",
    "\n",
    "# Inside client.fit or train_local_model:\n",
    "privacy_engine = PrivacyEngine(\n",
    "    model,\n",
    "    batch_size=32,\n",
    "    sample_size=len(self.train_loader.dataset),\n",
    "    alphas=[10, 100],\n",
    "    noise_multiplier=1.0,\n",
    "    max_grad_norm=1.0,\n",
    ")\n",
    "privacy_engine.attach(optimizer)\n",
    "\n",
    "# Now optimizer.step() will automatically add noise\n",
    "# At end, you can inspect privacy_engine.accountant.get_epsilon(target_delta)"
   ]
  }
 ],
 "metadata": {
  "kernelspec": {
   "display_name": "Python 3",
   "language": "python",
   "name": "python3"
  },
  "language_info": {
   "codemirror_mode": {
    "name": "ipython",
    "version": 3
   },
   "file_extension": ".py",
   "mimetype": "text/x-python",
   "name": "python",
   "nbconvert_exporter": "python",
   "pygments_lexer": "ipython3",
   "version": "3.12.7"
  }
 },
 "nbformat": 4,
 "nbformat_minor": 5
}
